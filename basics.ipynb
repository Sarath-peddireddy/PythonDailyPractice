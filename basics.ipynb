{
 "cells": [
  {
   "cell_type": "code",
   "execution_count": 1,
   "id": "f24277b1",
   "metadata": {},
   "outputs": [
    {
     "name": "stdout",
     "output_type": "stream",
     "text": [
      "Amma thalli Ankamma thalli Nuvve nannu next 1 year lopu GOOGLE lokii DS role lo settle cheyyali amma\n"
     ]
    }
   ],
   "source": [
    "name = \"Ankamma thalli\"\n",
    "print(\"Amma thalli {} Nuvve nannu next 1 year lopu GOOGLE lokii DS role lo settle cheyyali amma\" .format(name))"
   ]
  },
  {
   "cell_type": "code",
   "execution_count": 3,
   "id": "eaac9f89",
   "metadata": {},
   "outputs": [
    {
     "name": "stdout",
     "output_type": "stream",
     "text": [
      "34.0\n"
     ]
    }
   ],
   "source": [
    "price = float('34')\n",
    "print(price)"
   ]
  },
  {
   "cell_type": "code",
   "execution_count": 7,
   "id": "2a37625f",
   "metadata": {},
   "outputs": [
    {
     "name": "stdout",
     "output_type": "stream",
     "text": [
      "23\n"
     ]
    }
   ],
   "source": [
    "age = str(23)\n",
    "print(age)"
   ]
  },
  {
   "cell_type": "code",
   "execution_count": 8,
   "id": "ec4e5ef3",
   "metadata": {},
   "outputs": [],
   "source": [
    "del age"
   ]
  },
  {
   "cell_type": "code",
   "execution_count": 12,
   "id": "a0dbfd22",
   "metadata": {},
   "outputs": [
    {
     "name": "stdout",
     "output_type": "stream",
     "text": [
      "results 3.3333333333333335, 3\n"
     ]
    }
   ],
   "source": [
    "res1 = 10/3\n",
    "res2 = 10//3\n",
    "print(f\"results {res1}, {res2}\")"
   ]
  },
  {
   "cell_type": "code",
   "execution_count": 13,
   "id": "20a74fff",
   "metadata": {},
   "outputs": [
    {
     "name": "stdout",
     "output_type": "stream",
     "text": [
      "results 3, 4\n"
     ]
    }
   ],
   "source": [
    "import math\n",
    "flr = math.floor(3.7)\n",
    "cl = math.ceil(3.7)\n",
    "print(f\"results {flr}, {cl}\")"
   ]
  },
  {
   "cell_type": "code",
   "execution_count": 60,
   "id": "062732cf",
   "metadata": {},
   "outputs": [
    {
     "name": "stdout",
     "output_type": "stream",
     "text": [
      "1\n"
     ]
    }
   ],
   "source": [
    "import random\n",
    "num = random.randint(1,5)\n",
    "print(num)"
   ]
  },
  {
   "cell_type": "code",
   "execution_count": 64,
   "id": "3b285a8f",
   "metadata": {},
   "outputs": [
    {
     "name": "stdout",
     "output_type": "stream",
     "text": [
      "C\\sarath\u0007md\n"
     ]
    }
   ],
   "source": [
    "s = \"C\\sarath\\amd\"\n",
    "print(s)"
   ]
  },
  {
   "cell_type": "code",
   "execution_count": 80,
   "id": "80588bf5",
   "metadata": {},
   "outputs": [
    {
     "name": "stdout",
     "output_type": "stream",
     "text": [
      "sarath,peddireddy\n",
      "Sarath,Peddireddy\n",
      "Sarath,peddireddy\n"
     ]
    }
   ],
   "source": [
    "s = \"sarath,peddireddy\"\n",
    "print(s[::])\n",
    "print(s.title())\n",
    "print(s.capitalize())"
   ]
  },
  {
   "cell_type": "code",
   "execution_count": 81,
   "id": "0bb9688e",
   "metadata": {},
   "outputs": [
    {
     "name": "stdout",
     "output_type": "stream",
     "text": [
      "['sarath', 'peddireddy']\n"
     ]
    }
   ],
   "source": [
    "parts = s.split(\",\")\n",
    "print(parts)"
   ]
  },
  {
   "cell_type": "code",
   "execution_count": 87,
   "id": "2355aa8f",
   "metadata": {},
   "outputs": [
    {
     "name": "stdout",
     "output_type": "stream",
     "text": [
      "abcd\n"
     ]
    }
   ],
   "source": [
    "strs = ['a','b','c','d']\n",
    "res = \"\".join(strs)\n",
    "print(res)"
   ]
  },
  {
   "cell_type": "code",
   "execution_count": 90,
   "id": "5ed48bdd",
   "metadata": {},
   "outputs": [
    {
     "data": {
      "text/plain": [
       "'*sarath,peddireddy**'"
      ]
     },
     "execution_count": 90,
     "metadata": {},
     "output_type": "execute_result"
    }
   ],
   "source": [
    "s.center(20,'*')"
   ]
  },
  {
   "cell_type": "code",
   "execution_count": 97,
   "id": "f721aeee",
   "metadata": {},
   "outputs": [
    {
     "name": "stdout",
     "output_type": "stream",
     "text": [
      "size of list before 10\n",
      "size of list after 9\n",
      "[3, 2, 1, 2, 4, 5, 9, 3, 5]\n",
      "size of list after del 8\n",
      "[3, 1, 2, 4, 5, 9, 3, 5]\n",
      "2\n"
     ]
    }
   ],
   "source": [
    "ls = [3,2,1,2,7,4,5,9,3,5]\n",
    "print(f'size of list before {len(ls)}')\n",
    "ls.remove(7)\n",
    "print(f'size of list after {len(ls)}')\n",
    "print(ls)\n",
    "x= ls.pop(1)\n",
    "print(f'size of list after del {len(ls)}')\n",
    "print(ls)\n",
    "print(x)\n"
   ]
  },
  {
   "cell_type": "code",
   "execution_count": 100,
   "id": "bba31fd2",
   "metadata": {},
   "outputs": [
    {
     "name": "stdout",
     "output_type": "stream",
     "text": [
      "[]\n"
     ]
    }
   ],
   "source": [
    "ls.clear()\n",
    "print(ls)"
   ]
  },
  {
   "cell_type": "code",
   "execution_count": 105,
   "id": "11dc6c53",
   "metadata": {},
   "outputs": [
    {
     "name": "stdout",
     "output_type": "stream",
     "text": [
      "[1, 9, 25, 49, 81]\n"
     ]
    }
   ],
   "source": [
    "squares = [x**2 for x in range(1,10) if x % 2 != 0]\n",
    "print(squares)"
   ]
  },
  {
   "cell_type": "code",
   "execution_count": 107,
   "id": "d5d33748",
   "metadata": {},
   "outputs": [
    {
     "name": "stdout",
     "output_type": "stream",
     "text": [
      "[[0, 0, 0, 0, 0], [0, 1, 2, 3, 4], [0, 2, 4, 6, 8], [0, 3, 6, 9, 12], [0, 4, 8, 12, 16]]\n"
     ]
    }
   ],
   "source": [
    "matrix = [[i*j for j in range(5)] for i in range(5)]\n",
    "print(matrix)"
   ]
  },
  {
   "cell_type": "code",
   "execution_count": 112,
   "id": "a309736a",
   "metadata": {},
   "outputs": [
    {
     "name": "stdout",
     "output_type": "stream",
     "text": [
      "(1, 1, 1, 1, 1, 1, 1, 1, 1, 1, 1, 1, 1, 1, 1, 1, 1, 1, 1, 1, 1, 1, 1, 1, 1, 1, 1, 1, 1, 1, 1, 1, 1, 1, 1, 1, 1, 1, 1, 1, 1, 1, 1, 1, 1, 1, 1, 1, 1, 1, 1, 1, 1, 1, 1, 1, 1, 1, 1, 1, 1, 1, 1, 1, 1, 1, 1, 1, 1, 1, 1, 1, 1, 1, 1, 1, 1, 1, 1, 1, 1, 1, 1, 1, 1, 1, 1, 1, 1, 1, 1, 1, 1, 1, 1, 1, 1, 1, 1, 1)\n",
      "100\n"
     ]
    }
   ],
   "source": [
    "t = (1,)\n",
    "rep = t * 100\n",
    "print(rep)\n",
    "print(len(rep))"
   ]
  },
  {
   "cell_type": "code",
   "execution_count": 114,
   "id": "6a1a8467",
   "metadata": {},
   "outputs": [
    {
     "name": "stdout",
     "output_type": "stream",
     "text": [
      "0 1\n"
     ]
    }
   ],
   "source": [
    "a,b = 1,0\n",
    "a,b = b,a\n",
    "print(f'{a} {b}')"
   ]
  },
  {
   "cell_type": "code",
   "execution_count": null,
   "id": "8453c9c9",
   "metadata": {},
   "outputs": [
    {
     "name": "stdout",
     "output_type": "stream",
     "text": [
      "{0, 1, 2, 3, 4, 5, 6, 8, 9}\n"
     ]
    }
   ],
   "source": [
    "s = set([1,2,3,2,4,5,4,5,3,6,8,6,8,0,9])\n",
    "s.update([99,33,44])\n",
    "print(s)"
   ]
  },
  {
   "cell_type": "code",
   "execution_count": 141,
   "id": "66fb4c38",
   "metadata": {},
   "outputs": [
    {
     "name": "stdout",
     "output_type": "stream",
     "text": [
      "dict_keys(['a', 'b', 'c', 'd', 'e']), dict_values([1, 2, 3, 4, 5]), dict_items([('a', 1), ('b', 2), ('c', 3), ('d', 4), ('e', 5)])\n"
     ]
    }
   ],
   "source": [
    "dc = {'a':1, 'b':2, 'c':3, 'd':4, 'e':5}\n",
    "val = dc['b']\n",
    "\n",
    "keys = dc.keys()\n",
    "vals = dc.values()\n",
    "itms = dc.items()\n",
    "print(f'{keys}, {vals}, {itms}')"
   ]
  },
  {
   "cell_type": "code",
   "execution_count": 146,
   "id": "057ef0a5",
   "metadata": {},
   "outputs": [
    {
     "name": "stdout",
     "output_type": "stream",
     "text": [
      "0 0\n",
      "0 0\n",
      "0 0\n",
      "0 0\n",
      "0 0\n",
      "0 0\n",
      "0 0\n",
      "0 0\n",
      "0 0\n",
      "0 0\n",
      "0 0\n",
      "0 0\n",
      "0 0\n"
     ]
    }
   ],
   "source": [
    "ittr = [1,2,43,2,4,5,3,5,6,4,36,654,232]\n",
    "for ind, val in enumerate(ittr):\n",
    "    print(0,0)"
   ]
  },
  {
   "cell_type": "code",
   "execution_count": 153,
   "id": "d85cbb02",
   "metadata": {},
   "outputs": [
    {
     "name": "stdout",
     "output_type": "stream",
     "text": [
      "0\n",
      "1\n",
      "2\n",
      "3\n",
      "4\n",
      "5\n",
      "6\n",
      "7\n",
      "8\n",
      "9\n",
      "10\n",
      "11\n",
      "12\n",
      "13\n",
      "14\n",
      "15\n",
      "16\n",
      "17\n",
      "18\n",
      "19\n",
      "20\n",
      "21\n",
      "22\n",
      "23\n",
      "24\n",
      "25\n",
      "26\n",
      "27\n",
      "28\n",
      "29\n",
      "30\n",
      "31\n",
      "32\n",
      "33\n",
      "34\n",
      "35\n",
      "36\n",
      "37\n",
      "38\n",
      "39\n",
      "40\n",
      "41\n",
      "42\n",
      "43\n",
      "44\n",
      "45\n",
      "46\n",
      "47\n",
      "48\n",
      "49\n",
      "50\n",
      "51\n",
      "52\n",
      "53\n",
      "54\n",
      "55\n",
      "56\n",
      "57\n",
      "58\n",
      "59\n",
      "60\n",
      "61\n",
      "62\n",
      "63\n",
      "64\n",
      "65\n",
      "66\n",
      "67\n",
      "68\n",
      "69\n",
      "70\n",
      "71\n",
      "72\n",
      "73\n",
      "74\n",
      "75\n",
      "76\n",
      "77\n",
      "78\n",
      "79\n",
      "80\n",
      "81\n",
      "82\n",
      "83\n",
      "84\n",
      "85\n",
      "86\n",
      "87\n",
      "88\n",
      "89\n",
      "90\n",
      "91\n",
      "92\n",
      "93\n",
      "94\n",
      "95\n",
      "96\n",
      "97\n",
      "98\n"
     ]
    }
   ],
   "source": [
    "i  = 0\n",
    "while i < 99:\n",
    "    print(i)\n",
    "    i += 1\n",
    "\n",
    "\n",
    "    if i == 6:\n",
    "        continue"
   ]
  },
  {
   "cell_type": "code",
   "execution_count": 155,
   "id": "2655c995",
   "metadata": {},
   "outputs": [
    {
     "name": "stdout",
     "output_type": "stream",
     "text": [
      "24\n"
     ]
    }
   ],
   "source": [
    "sqr = lambda a,b,c,d: a*b*c*d\n",
    "print(sqr(1,2,3,4))\n"
   ]
  },
  {
   "cell_type": "code",
   "execution_count": null,
   "id": "83a2e142",
   "metadata": {},
   "outputs": [],
   "source": []
  }
 ],
 "metadata": {
  "kernelspec": {
   "display_name": "myenv",
   "language": "python",
   "name": "python3"
  },
  "language_info": {
   "codemirror_mode": {
    "name": "ipython",
    "version": 3
   },
   "file_extension": ".py",
   "mimetype": "text/x-python",
   "name": "python",
   "nbconvert_exporter": "python",
   "pygments_lexer": "ipython3",
   "version": "3.11.13"
  }
 },
 "nbformat": 4,
 "nbformat_minor": 5
}
